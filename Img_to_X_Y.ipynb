{
 "cells": [
  {
   "cell_type": "code",
   "execution_count": 23,
   "metadata": {},
   "outputs": [],
   "source": [
    "from PIL import Image\n",
    "import matplotlib.pyplot as plt\n",
    "import matplotlib.image as img\n",
    "import numpy as np\n",
    "import pickle\n",
    "import string"
   ]
  },
  {
   "cell_type": "code",
   "execution_count": 24,
   "metadata": {},
   "outputs": [
    {
     "name": "stdout",
     "output_type": "stream",
     "text": [
      "A-1000\n",
      "A-2000\n",
      "A-3000\n",
      "A-4000\n",
      "B-1000\n",
      "B-2000\n",
      "B-3000\n",
      "B-4000\n",
      "C-1000\n",
      "C-2000\n",
      "C-3000\n",
      "C-4000\n",
      "D-1000\n",
      "D-2000\n",
      "D-3000\n",
      "D-4000\n",
      "E-1000\n",
      "E-2000\n",
      "E-3000\n",
      "E-4000\n",
      "F-1000\n",
      "G-1000\n",
      "G-2000\n",
      "G-3000\n",
      "G-4000\n",
      "H-1000\n",
      "H-2000\n",
      "H-3000\n",
      "H-4000\n",
      "I-1000\n",
      "J-1000\n",
      "J-2000\n",
      "J-3000\n",
      "J-4000\n",
      "K-1000\n",
      "K-2000\n",
      "K-3000\n",
      "K-4000\n",
      "L-1000\n",
      "L-2000\n",
      "L-3000\n",
      "L-4000\n",
      "M-1000\n",
      "M-2000\n",
      "M-3000\n",
      "M-4000\n",
      "N-1000\n",
      "N-2000\n",
      "N-3000\n",
      "N-4000\n",
      "O-1000\n",
      "O-2000\n",
      "O-3000\n",
      "O-4000\n",
      "P-1000\n",
      "P-2000\n",
      "P-3000\n",
      "P-4000\n",
      "Q-1000\n",
      "Q-2000\n",
      "Q-3000\n",
      "Q-4000\n",
      "R-1000\n",
      "R-2000\n",
      "R-3000\n",
      "R-4000\n",
      "S-1000\n",
      "S-2000\n",
      "S-3000\n",
      "S-4000\n",
      "T-1000\n",
      "T-2000\n",
      "T-3000\n",
      "T-4000\n",
      "U-1000\n",
      "U-2000\n",
      "U-3000\n",
      "U-4000\n",
      "V-1000\n",
      "V-2000\n",
      "V-3000\n",
      "V-4000\n",
      "W-1000\n",
      "W-2000\n",
      "W-3000\n",
      "W-4000\n",
      "X-1000\n",
      "X-2000\n",
      "X-3000\n",
      "X-4000\n",
      "Y-1000\n",
      "Y-2000\n",
      "Y-3000\n",
      "Y-4000\n",
      "Z-1000\n",
      "Z-2000\n",
      "Z-3000\n",
      "Z-4000\n",
      "(784, 121465)\n",
      "(26, 121465)\n"
     ]
    }
   ],
   "source": [
    "l = list(string.ascii_uppercase)\n",
    "num_pics = [13870, 8668, 23409, 10134, 11440, 1163, 5762, 7218, 1120, 8493, 5603, 11586, 12336, 19010, 57825, 19341, 5812, 11566, 48419, 22495, 29008, 4182, 10784, 6272, 10859, 6076]\n",
    "num_pics_using = list(map(lambda z: min(z,5000), num_pics))\n",
    "\n",
    "X = img.imread('Images/A/A-0.png').reshape(784,1)\n",
    "Y = np.zeros([26,1])\n",
    "Y[0] = 1\n",
    "for i in range(26):\n",
    "    alphabet = l[i]\n",
    "    img1_path = 'Images/' + alphabet + '/' + alphabet + '-0.png'\n",
    "    X_temp = img.imread(img1_path).reshape(784,1)\n",
    "    Y_temp = np.zeros([26,1])\n",
    "    Y_temp[i] = 1\n",
    "    for j in range(1,num_pics_using[i]):                # X_temp, Y_temp contain data for only one alphabet, to increase speed\n",
    "        img_path = 'Images/' + alphabet + '/' + alphabet + '-' + str(j) + '.png'\n",
    "        I = img.imread(img_path).reshape(784,1)\n",
    "        X_temp = np.append(X_temp,I,axis = 1)\n",
    "        y = np.zeros([26,1])\n",
    "        y[i] = 1\n",
    "        Y_temp = np.append(Y_temp,y,axis = 1)\n",
    "        if(j%1000 == 0):\n",
    "            print(alphabet +'-'+ str(j))\n",
    "    X = np.append(X,X_temp,axis = 1)\n",
    "    Y = np.append(Y,Y_temp,axis = 1)\n",
    "X = X[:,1:]\n",
    "Y = Y[:,1:]\n",
    "print(X.shape)\n",
    "print(Y.shape)"
   ]
  },
  {
   "cell_type": "code",
   "execution_count": 25,
   "metadata": {},
   "outputs": [],
   "source": [
    "pickle_out = open('X_Y.pickle','wb')\n",
    "pickle.dump((X,Y),pickle_out)\n",
    "pickle_out.close()"
   ]
  },
  {
   "cell_type": "code",
   "execution_count": 26,
   "metadata": {
    "scrolled": true
   },
   "outputs": [
    {
     "name": "stdout",
     "output_type": "stream",
     "text": [
      "(784, 121465)\n"
     ]
    }
   ],
   "source": [
    "pickle_in = open('X_Y.pickle','rb')\n",
    "X1 = pickle.load(pickle_in)\n",
    "print(X1[0].shape)"
   ]
  },
  {
   "cell_type": "code",
   "execution_count": 36,
   "metadata": {
    "scrolled": true
   },
   "outputs": [
    {
     "data": {
      "text/plain": [
       "<matplotlib.image.AxesImage at 0x7f5b4244a100>"
      ]
     },
     "execution_count": 36,
     "metadata": {},
     "output_type": "execute_result"
    },
    {
     "data": {
      "image/png": "[encoded data removed]",
      "text/plain": [
       "<Figure size 432x288 with 1 Axes>"
      ]
     },
     "metadata": {
      "needs_background": "light"
     },
     "output_type": "display_data"
    }
   ],
   "source": [
    "a = X1[0][:,34005]\n",
    "a = a.reshape(28,28)\n",
    "plt.imshow(a)"
   ]
  }
 ],
 "metadata": {
  "kernelspec": {
   "display_name": "Python 3",
   "language": "python",
   "name": "python3"
  },
  "language_info": {
   "codemirror_mode": {
    "name": "ipython",
    "version": 3
   },
   "file_extension": ".py",
   "mimetype": "text/x-python",
   "name": "python",
   "nbconvert_exporter": "python",
   "pygments_lexer": "ipython3",
   "version": "3.8.5"
  }
 },
 "nbformat": 4,
 "nbformat_minor": 4
}
