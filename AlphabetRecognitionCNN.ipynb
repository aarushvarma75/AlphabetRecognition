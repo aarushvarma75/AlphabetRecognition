{
  "nbformat": 4,
  "nbformat_minor": 0,
  "metadata": {
    "kernelspec": {
      "display_name": "Python 3",
      "language": "python",
      "name": "python3"
    },
    "language_info": {
      "codemirror_mode": {
        "name": "ipython",
        "version": 3
      },
      "file_extension": ".py",
      "mimetype": "text/x-python",
      "name": "python",
      "nbconvert_exporter": "python",
      "pygments_lexer": "ipython3",
      "version": "3.8.5"
    },
    "colab": {
      "name": "AlphabetRecognitionCNN.ipynb",
      "provenance": [],
      "collapsed_sections": []
    },
    "accelerator": "GPU"
  },
  "cells": [
    {
      "cell_type": "code",
      "metadata": {
        "id": "l0kVSVcw2Njl"
      },
      "source": [
        "import tensorflow as tf"
      ],
      "execution_count": null,
      "outputs": []
    },
    {
      "cell_type": "code",
      "metadata": {
        "id": "78HMHauRgpMY"
      },
      "source": [
        "!pip install -q kaggle"
      ],
      "execution_count": null,
      "outputs": []
    },
    {
      "cell_type": "code",
      "metadata": {
        "colab": {
          "resources": {
            "http://localhost:8080/nbextensions/google.colab/files.js": {
              "data": "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",
              "ok": true,
              "headers": [
                [
                  "content-type",
                  "application/javascript"
                ]
              ],
              "status": 200,
              "status_text": ""
            }
          },
          "base_uri": "https://localhost:8080/",
          "height": 90
        },
        "id": "A4yFSeAMgshl",
        "outputId": "e155c537-1cb0-43ca-89b2-5709b82152ae"
      },
      "source": [
        "from google.colab import files\n",
        "files.upload()"
      ],
      "execution_count": null,
      "outputs": [
        {
          "output_type": "display_data",
          "data": {
            "text/html": [
              "\n",
              "     <input type=\"file\" id=\"files-70b90d04-d540-4143-a794-7c55e175cbc4\" name=\"files[]\" multiple disabled\n",
              "        style=\"border:none\" />\n",
              "     <output id=\"result-70b90d04-d540-4143-a794-7c55e175cbc4\">\n",
              "      Upload widget is only available when the cell has been executed in the\n",
              "      current browser session. Please rerun this cell to enable.\n",
              "      </output>\n",
              "      <script src=\"/nbextensions/google.colab/files.js\"></script> "
            ],
            "text/plain": [
              "<IPython.core.display.HTML object>"
            ]
          },
          "metadata": {
            "tags": []
          }
        },
        {
          "output_type": "stream",
          "text": [
            "Saving kaggle.json to kaggle.json\n"
          ],
          "name": "stdout"
        },
        {
          "output_type": "execute_result",
          "data": {
            "text/plain": [
              "{'kaggle.json': b'{\"username\":\"aarushverma\",\"key\":\"a556b53644acf230d4623a725d843ac2\"}'}"
            ]
          },
          "metadata": {
            "tags": []
          },
          "execution_count": 3
        }
      ]
    },
    {
      "cell_type": "code",
      "metadata": {
        "id": "SghQoELAaSh6"
      },
      "source": [
        "!mkdir ~/.kaggle\n",
        "!cp kaggle.json ~/.kaggle/\n",
        "!chmod 600 ~/.kaggle/kaggle.json"
      ],
      "execution_count": null,
      "outputs": []
    },
    {
      "cell_type": "code",
      "metadata": {
        "colab": {
          "base_uri": "https://localhost:8080/"
        },
        "id": "9PFHQggubZND",
        "outputId": "26107bf2-a853-4ecf-b1b8-8b96b87fef80"
      },
      "source": [
        "!kaggle datasets download -d sachinpatel21/az-handwritten-alphabets-in-csv-format"
      ],
      "execution_count": null,
      "outputs": [
        {
          "output_type": "stream",
          "text": [
            "Downloading az-handwritten-alphabets-in-csv-format.zip to /content\n",
            " 91% 168M/185M [00:01<00:00, 127MB/s]\n",
            "100% 185M/185M [00:01<00:00, 153MB/s]\n"
          ],
          "name": "stdout"
        }
      ]
    },
    {
      "cell_type": "code",
      "metadata": {
        "id": "e7dnZqwNZU3Z",
        "colab": {
          "base_uri": "https://localhost:8080/"
        },
        "outputId": "190bfc77-13e0-4786-fcb3-4032442c0d3e"
      },
      "source": [
        "!unzip /content/az-handwritten-alphabets-in-csv-format.zip -d Data"
      ],
      "execution_count": null,
      "outputs": [
        {
          "output_type": "stream",
          "text": [
            "Archive:  /content/az-handwritten-alphabets-in-csv-format.zip\n",
            "  inflating: Data/A_Z Handwritten Data.csv  \n",
            "  inflating: Data/A_Z Handwritten Data/A_Z Handwritten Data.csv  \n"
          ],
          "name": "stdout"
        }
      ]
    },
    {
      "cell_type": "code",
      "metadata": {
        "id": "N55kY0ANco2h"
      },
      "source": [
        "!mkdir images"
      ],
      "execution_count": null,
      "outputs": []
    },
    {
      "cell_type": "code",
      "metadata": {
        "colab": {
          "base_uri": "https://localhost:8080/"
        },
        "id": "GrjVxA_ciWen",
        "outputId": "dbae2661-12cd-48c9-ad03-7d591c151083"
      },
      "source": [
        "import csv\n",
        "from PIL import Image\n",
        "import numpy as np\n",
        "import pandas as pd\n",
        "import string\n",
        "import os\n",
        " \n",
        "csv_File_Path = '/content/Data/A_Z Handwritten Data.csv'# Downloded csv file path\n",
        " \n",
        "count = 1\n",
        "last_digit_Name =  None\n",
        " \n",
        "image_Folder_Path = '/content/images'# Target folder path\n",
        " \n",
        "Alphabet_Mapping_List = list(string.ascii_uppercase)\n",
        " \n",
        "for alphabet in Alphabet_Mapping_List:\n",
        "    path = image_Folder_Path + '/' + alphabet\n",
        "    if not os.path.exists(path):\n",
        "        os.makedirs(path)\n",
        "with open(csv_File_Path, newline='') as csvfile:     #codecs.open(csv_File_Path, 'r', encoding = 'utf8', errors='ignore')\n",
        "    reader = csv.reader(csvfile, delimiter=',', quotechar='|')\n",
        "    count = 0\n",
        "    for row in reader:\n",
        "        digit_Name = row.pop(0)\n",
        "        image_array = np.asarray(row)\n",
        "        image_array = image_array.reshape(28, 28)\n",
        "        new_image = Image.fromarray(image_array.astype('uint8'))\n",
        " \n",
        "        if last_digit_Name != str(Alphabet_Mapping_List[(int)(digit_Name)]):\n",
        "            last_digit_Name = str(Alphabet_Mapping_List[(int)(digit_Name)])\n",
        "            count = 0\n",
        "            print (\"\")\n",
        "            print (\"Prcessing Alphabet - \" + str (last_digit_Name))\n",
        "        \n",
        "        image_Path = image_Folder_Path + '/' + last_digit_Name + '/' + str(last_digit_Name) + '-' + str(count) + '.png'\n",
        "        new_image.save(image_Path)\n",
        "        count = count + 1\n",
        " \n",
        "        if count % 1000 == 0:\n",
        "            print (\"Images processed: \" + str(count))"
      ],
      "execution_count": null,
      "outputs": [
        {
          "output_type": "stream",
          "text": [
            "\n",
            "Prcessing Alphabet - A\n",
            "Images processed: 1000\n",
            "Images processed: 2000\n",
            "Images processed: 3000\n",
            "Images processed: 4000\n",
            "Images processed: 5000\n",
            "Images processed: 6000\n",
            "Images processed: 7000\n",
            "Images processed: 8000\n",
            "Images processed: 9000\n",
            "Images processed: 10000\n",
            "Images processed: 11000\n",
            "Images processed: 12000\n",
            "Images processed: 13000\n",
            "\n",
            "Prcessing Alphabet - B\n",
            "Images processed: 1000\n",
            "Images processed: 2000\n",
            "Images processed: 3000\n",
            "Images processed: 4000\n",
            "Images processed: 5000\n",
            "Images processed: 6000\n",
            "Images processed: 7000\n",
            "Images processed: 8000\n",
            "\n",
            "Prcessing Alphabet - C\n",
            "Images processed: 1000\n",
            "Images processed: 2000\n",
            "Images processed: 3000\n",
            "Images processed: 4000\n",
            "Images processed: 5000\n",
            "Images processed: 6000\n",
            "Images processed: 7000\n",
            "Images processed: 8000\n",
            "Images processed: 9000\n",
            "Images processed: 10000\n",
            "Images processed: 11000\n",
            "Images processed: 12000\n",
            "Images processed: 13000\n",
            "Images processed: 14000\n",
            "Images processed: 15000\n",
            "Images processed: 16000\n",
            "Images processed: 17000\n",
            "Images processed: 18000\n",
            "Images processed: 19000\n",
            "Images processed: 20000\n",
            "Images processed: 21000\n",
            "Images processed: 22000\n",
            "Images processed: 23000\n",
            "\n",
            "Prcessing Alphabet - D\n",
            "Images processed: 1000\n",
            "Images processed: 2000\n",
            "Images processed: 3000\n",
            "Images processed: 4000\n",
            "Images processed: 5000\n",
            "Images processed: 6000\n",
            "Images processed: 7000\n",
            "Images processed: 8000\n",
            "Images processed: 9000\n",
            "Images processed: 10000\n",
            "\n",
            "Prcessing Alphabet - E\n",
            "Images processed: 1000\n",
            "Images processed: 2000\n",
            "Images processed: 3000\n",
            "Images processed: 4000\n",
            "Images processed: 5000\n",
            "Images processed: 6000\n",
            "Images processed: 7000\n",
            "Images processed: 8000\n",
            "Images processed: 9000\n",
            "Images processed: 10000\n",
            "Images processed: 11000\n",
            "\n",
            "Prcessing Alphabet - F\n",
            "Images processed: 1000\n",
            "\n",
            "Prcessing Alphabet - G\n",
            "Images processed: 1000\n",
            "Images processed: 2000\n",
            "Images processed: 3000\n",
            "Images processed: 4000\n",
            "Images processed: 5000\n",
            "\n",
            "Prcessing Alphabet - H\n",
            "Images processed: 1000\n",
            "Images processed: 2000\n",
            "Images processed: 3000\n",
            "Images processed: 4000\n",
            "Images processed: 5000\n",
            "Images processed: 6000\n",
            "Images processed: 7000\n",
            "\n",
            "Prcessing Alphabet - I\n",
            "Images processed: 1000\n",
            "\n",
            "Prcessing Alphabet - J\n",
            "Images processed: 1000\n",
            "Images processed: 2000\n",
            "Images processed: 3000\n",
            "Images processed: 4000\n",
            "Images processed: 5000\n",
            "Images processed: 6000\n",
            "Images processed: 7000\n",
            "Images processed: 8000\n",
            "\n",
            "Prcessing Alphabet - K\n",
            "Images processed: 1000\n",
            "Images processed: 2000\n",
            "Images processed: 3000\n",
            "Images processed: 4000\n",
            "Images processed: 5000\n",
            "\n",
            "Prcessing Alphabet - L\n",
            "Images processed: 1000\n",
            "Images processed: 2000\n",
            "Images processed: 3000\n",
            "Images processed: 4000\n",
            "Images processed: 5000\n",
            "Images processed: 6000\n",
            "Images processed: 7000\n",
            "Images processed: 8000\n",
            "Images processed: 9000\n",
            "Images processed: 10000\n",
            "Images processed: 11000\n",
            "\n",
            "Prcessing Alphabet - M\n",
            "Images processed: 1000\n",
            "Images processed: 2000\n",
            "Images processed: 3000\n",
            "Images processed: 4000\n",
            "Images processed: 5000\n",
            "Images processed: 6000\n",
            "Images processed: 7000\n",
            "Images processed: 8000\n",
            "Images processed: 9000\n",
            "Images processed: 10000\n",
            "Images processed: 11000\n",
            "Images processed: 12000\n",
            "\n",
            "Prcessing Alphabet - N\n",
            "Images processed: 1000\n",
            "Images processed: 2000\n",
            "Images processed: 3000\n",
            "Images processed: 4000\n",
            "Images processed: 5000\n",
            "Images processed: 6000\n",
            "Images processed: 7000\n",
            "Images processed: 8000\n",
            "Images processed: 9000\n",
            "Images processed: 10000\n",
            "Images processed: 11000\n",
            "Images processed: 12000\n",
            "Images processed: 13000\n",
            "Images processed: 14000\n",
            "Images processed: 15000\n",
            "Images processed: 16000\n",
            "Images processed: 17000\n",
            "Images processed: 18000\n",
            "Images processed: 19000\n",
            "\n",
            "Prcessing Alphabet - O\n",
            "Images processed: 1000\n",
            "Images processed: 2000\n",
            "Images processed: 3000\n",
            "Images processed: 4000\n",
            "Images processed: 5000\n",
            "Images processed: 6000\n",
            "Images processed: 7000\n",
            "Images processed: 8000\n",
            "Images processed: 9000\n",
            "Images processed: 10000\n",
            "Images processed: 11000\n",
            "Images processed: 12000\n",
            "Images processed: 13000\n",
            "Images processed: 14000\n",
            "Images processed: 15000\n",
            "Images processed: 16000\n",
            "Images processed: 17000\n",
            "Images processed: 18000\n",
            "Images processed: 19000\n",
            "Images processed: 20000\n",
            "Images processed: 21000\n",
            "Images processed: 22000\n",
            "Images processed: 23000\n",
            "Images processed: 24000\n",
            "Images processed: 25000\n",
            "Images processed: 26000\n",
            "Images processed: 27000\n",
            "Images processed: 28000\n",
            "Images processed: 29000\n",
            "Images processed: 30000\n",
            "Images processed: 31000\n",
            "Images processed: 32000\n",
            "Images processed: 33000\n",
            "Images processed: 34000\n",
            "Images processed: 35000\n",
            "Images processed: 36000\n",
            "Images processed: 37000\n",
            "Images processed: 38000\n",
            "Images processed: 39000\n",
            "Images processed: 40000\n",
            "Images processed: 41000\n",
            "Images processed: 42000\n",
            "Images processed: 43000\n",
            "Images processed: 44000\n",
            "Images processed: 45000\n",
            "Images processed: 46000\n",
            "Images processed: 47000\n",
            "Images processed: 48000\n",
            "Images processed: 49000\n",
            "Images processed: 50000\n",
            "Images processed: 51000\n",
            "Images processed: 52000\n",
            "Images processed: 53000\n",
            "Images processed: 54000\n",
            "Images processed: 55000\n",
            "Images processed: 56000\n",
            "Images processed: 57000\n",
            "\n",
            "Prcessing Alphabet - P\n",
            "Images processed: 1000\n",
            "Images processed: 2000\n",
            "Images processed: 3000\n",
            "Images processed: 4000\n",
            "Images processed: 5000\n",
            "Images processed: 6000\n",
            "Images processed: 7000\n",
            "Images processed: 8000\n",
            "Images processed: 9000\n",
            "Images processed: 10000\n",
            "Images processed: 11000\n",
            "Images processed: 12000\n",
            "Images processed: 13000\n",
            "Images processed: 14000\n",
            "Images processed: 15000\n",
            "Images processed: 16000\n",
            "Images processed: 17000\n",
            "Images processed: 18000\n",
            "Images processed: 19000\n",
            "\n",
            "Prcessing Alphabet - Q\n",
            "Images processed: 1000\n",
            "Images processed: 2000\n",
            "Images processed: 3000\n",
            "Images processed: 4000\n",
            "Images processed: 5000\n",
            "\n",
            "Prcessing Alphabet - R\n",
            "Images processed: 1000\n",
            "Images processed: 2000\n",
            "Images processed: 3000\n",
            "Images processed: 4000\n",
            "Images processed: 5000\n",
            "Images processed: 6000\n",
            "Images processed: 7000\n",
            "Images processed: 8000\n",
            "Images processed: 9000\n",
            "Images processed: 10000\n",
            "Images processed: 11000\n",
            "\n",
            "Prcessing Alphabet - S\n",
            "Images processed: 1000\n",
            "Images processed: 2000\n",
            "Images processed: 3000\n",
            "Images processed: 4000\n",
            "Images processed: 5000\n",
            "Images processed: 6000\n",
            "Images processed: 7000\n",
            "Images processed: 8000\n",
            "Images processed: 9000\n",
            "Images processed: 10000\n",
            "Images processed: 11000\n",
            "Images processed: 12000\n",
            "Images processed: 13000\n",
            "Images processed: 14000\n",
            "Images processed: 15000\n",
            "Images processed: 16000\n",
            "Images processed: 17000\n",
            "Images processed: 18000\n",
            "Images processed: 19000\n",
            "Images processed: 20000\n",
            "Images processed: 21000\n",
            "Images processed: 22000\n",
            "Images processed: 23000\n",
            "Images processed: 24000\n",
            "Images processed: 25000\n",
            "Images processed: 26000\n",
            "Images processed: 27000\n",
            "Images processed: 28000\n",
            "Images processed: 29000\n",
            "Images processed: 30000\n",
            "Images processed: 31000\n",
            "Images processed: 32000\n",
            "Images processed: 33000\n",
            "Images processed: 34000\n",
            "Images processed: 35000\n",
            "Images processed: 36000\n",
            "Images processed: 37000\n",
            "Images processed: 38000\n",
            "Images processed: 39000\n",
            "Images processed: 40000\n",
            "Images processed: 41000\n",
            "Images processed: 42000\n",
            "Images processed: 43000\n",
            "Images processed: 44000\n",
            "Images processed: 45000\n",
            "Images processed: 46000\n",
            "Images processed: 47000\n",
            "Images processed: 48000\n",
            "\n",
            "Prcessing Alphabet - T\n",
            "Images processed: 1000\n",
            "Images processed: 2000\n",
            "Images processed: 3000\n",
            "Images processed: 4000\n",
            "Images processed: 5000\n",
            "Images processed: 6000\n",
            "Images processed: 7000\n",
            "Images processed: 8000\n",
            "Images processed: 9000\n",
            "Images processed: 10000\n",
            "Images processed: 11000\n",
            "Images processed: 12000\n",
            "Images processed: 13000\n",
            "Images processed: 14000\n",
            "Images processed: 15000\n",
            "Images processed: 16000\n",
            "Images processed: 17000\n",
            "Images processed: 18000\n",
            "Images processed: 19000\n",
            "Images processed: 20000\n",
            "Images processed: 21000\n",
            "Images processed: 22000\n",
            "\n",
            "Prcessing Alphabet - U\n",
            "Images processed: 1000\n",
            "Images processed: 2000\n",
            "Images processed: 3000\n",
            "Images processed: 4000\n",
            "Images processed: 5000\n",
            "Images processed: 6000\n",
            "Images processed: 7000\n",
            "Images processed: 8000\n",
            "Images processed: 9000\n",
            "Images processed: 10000\n",
            "Images processed: 11000\n",
            "Images processed: 12000\n",
            "Images processed: 13000\n",
            "Images processed: 14000\n",
            "Images processed: 15000\n",
            "Images processed: 16000\n",
            "Images processed: 17000\n",
            "Images processed: 18000\n",
            "Images processed: 19000\n",
            "Images processed: 20000\n",
            "Images processed: 21000\n",
            "Images processed: 22000\n",
            "Images processed: 23000\n",
            "Images processed: 24000\n",
            "Images processed: 25000\n",
            "Images processed: 26000\n",
            "Images processed: 27000\n",
            "Images processed: 28000\n",
            "Images processed: 29000\n",
            "\n",
            "Prcessing Alphabet - V\n",
            "Images processed: 1000\n",
            "Images processed: 2000\n",
            "Images processed: 3000\n",
            "Images processed: 4000\n",
            "\n",
            "Prcessing Alphabet - W\n",
            "Images processed: 1000\n",
            "Images processed: 2000\n",
            "Images processed: 3000\n",
            "Images processed: 4000\n",
            "Images processed: 5000\n",
            "Images processed: 6000\n",
            "Images processed: 7000\n",
            "Images processed: 8000\n",
            "Images processed: 9000\n",
            "Images processed: 10000\n",
            "\n",
            "Prcessing Alphabet - X\n",
            "Images processed: 1000\n",
            "Images processed: 2000\n",
            "Images processed: 3000\n",
            "Images processed: 4000\n",
            "Images processed: 5000\n",
            "Images processed: 6000\n",
            "\n",
            "Prcessing Alphabet - Y\n",
            "Images processed: 1000\n",
            "Images processed: 2000\n",
            "Images processed: 3000\n",
            "Images processed: 4000\n",
            "Images processed: 5000\n",
            "Images processed: 6000\n",
            "Images processed: 7000\n",
            "Images processed: 8000\n",
            "Images processed: 9000\n",
            "Images processed: 10000\n",
            "\n",
            "Prcessing Alphabet - Z\n",
            "Images processed: 1000\n",
            "Images processed: 2000\n",
            "Images processed: 3000\n",
            "Images processed: 4000\n",
            "Images processed: 5000\n",
            "Images processed: 6000\n"
          ],
          "name": "stdout"
        }
      ]
    },
    {
      "cell_type": "code",
      "metadata": {
        "id": "ZejO4n-82Njt"
      },
      "source": [
        "batch_size = 32\n",
        "image_height = 28\n",
        "image_width = 28"
      ],
      "execution_count": null,
      "outputs": []
    },
    {
      "cell_type": "code",
      "metadata": {
        "colab": {
          "base_uri": "https://localhost:8080/"
        },
        "id": "Nw4-lH6f2Njt",
        "outputId": "2fd82606-e6a4-4a0a-d09e-a85cbe220111"
      },
      "source": [
        "train_ds = tf.keras.preprocessing.image_dataset_from_directory(\n",
        "    '/content/images', \n",
        "    validation_split = 0.2, \n",
        "    subset = 'training',\n",
        "    labels='inferred',\n",
        "    label_mode='categorical',\n",
        "    seed = 123,\n",
        "    image_size = (image_height, image_width),\n",
        "    batch_size = batch_size)"
      ],
      "execution_count": null,
      "outputs": [
        {
          "output_type": "stream",
          "text": [
            "Found 372451 files belonging to 26 classes.\n",
            "Using 297961 files for training.\n"
          ],
          "name": "stdout"
        }
      ]
    },
    {
      "cell_type": "code",
      "metadata": {
        "colab": {
          "base_uri": "https://localhost:8080/"
        },
        "id": "ZWoA09MZ2Nju",
        "outputId": "89afb690-7d6a-4d50-9636-15016a2a519a"
      },
      "source": [
        "val_ds = tf.keras.preprocessing.image_dataset_from_directory(\n",
        "    '/content/images', \n",
        "    validation_split = 0.2, \n",
        "    labels='inferred',\n",
        "    label_mode='categorical',\n",
        "    subset = 'validation',\n",
        "    seed = 123,\n",
        "    image_size = (image_height, image_width),\n",
        "    batch_size = batch_size)"
      ],
      "execution_count": null,
      "outputs": [
        {
          "output_type": "stream",
          "text": [
            "Found 372451 files belonging to 26 classes.\n",
            "Using 74490 files for validation.\n"
          ],
          "name": "stdout"
        }
      ]
    },
    {
      "cell_type": "code",
      "metadata": {
        "colab": {
          "base_uri": "https://localhost:8080/"
        },
        "id": "HZo-2I3d2Njv",
        "outputId": "8f2dc230-a7cc-4c68-cc04-85119694d319"
      },
      "source": [
        "for data in train_ds:\n",
        "    print(data[1].shape)\n",
        "    break"
      ],
      "execution_count": null,
      "outputs": [
        {
          "output_type": "stream",
          "text": [
            "(32, 26)\n"
          ],
          "name": "stdout"
        }
      ]
    },
    {
      "cell_type": "code",
      "metadata": {
        "id": "vtGaAI_u2Njw"
      },
      "source": [
        "from tensorflow.keras import layers\n",
        "num_classes = 26\n",
        "\n",
        "model = tf.keras.Sequential([\n",
        "    layers.experimental.preprocessing.Rescaling(1./255),\n",
        "    layers.Conv2D(32,3, activation = 'relu'),\n",
        "    layers.MaxPooling2D(),\n",
        "    layers.Conv2D(64, 3, activation='relu'),\n",
        "    layers.MaxPooling2D(),\n",
        "#     layers.Conv2D(64, 3, activation='relu'),\n",
        "#     layers.MaxPooling2D(),\n",
        "    layers.Flatten(),\n",
        "    layers.Dense(50, activation='relu'),\n",
        "    layers.Dense(num_classes)\n",
        "])"
      ],
      "execution_count": null,
      "outputs": []
    },
    {
      "cell_type": "code",
      "metadata": {
        "id": "lb2wLLf02Njx"
      },
      "source": [
        "model.compile(\n",
        "    optimizer = 'adam',\n",
        "    loss = tf.losses.CategoricalCrossentropy(from_logits = True),\n",
        "    metrics = ['accuracy']\n",
        ")"
      ],
      "execution_count": null,
      "outputs": []
    },
    {
      "cell_type": "code",
      "metadata": {
        "colab": {
          "base_uri": "https://localhost:8080/"
        },
        "id": "kBRW8chw2Njx",
        "outputId": "f530e08e-dbed-42f3-8897-1485b270dbce"
      },
      "source": [
        "model.fit(\n",
        "    train_ds,\n",
        "    validation_data = val_ds,\n",
        "    epochs = 10)"
      ],
      "execution_count": null,
      "outputs": [
        {
          "output_type": "stream",
          "text": [
            "Epoch 1/10\n",
            "9312/9312 [==============================] - 237s 22ms/step - loss: 0.2956 - accuracy: 0.9176 - val_loss: 0.0702 - val_accuracy: 0.9810\n",
            "Epoch 2/10\n",
            "9312/9312 [==============================] - 199s 21ms/step - loss: 0.0644 - accuracy: 0.9821 - val_loss: 0.0540 - val_accuracy: 0.9854\n",
            "Epoch 3/10\n",
            "9312/9312 [==============================] - 196s 21ms/step - loss: 0.0448 - accuracy: 0.9874 - val_loss: 0.0498 - val_accuracy: 0.9863\n",
            "Epoch 4/10\n",
            "9312/9312 [==============================] - 196s 21ms/step - loss: 0.0349 - accuracy: 0.9900 - val_loss: 0.0482 - val_accuracy: 0.9869\n",
            "Epoch 5/10\n",
            "9312/9312 [==============================] - 194s 21ms/step - loss: 0.0270 - accuracy: 0.9920 - val_loss: 0.0401 - val_accuracy: 0.9899\n",
            "Epoch 6/10\n",
            "9312/9312 [==============================] - 192s 21ms/step - loss: 0.0224 - accuracy: 0.9931 - val_loss: 0.0462 - val_accuracy: 0.9887\n",
            "Epoch 7/10\n",
            "9312/9312 [==============================] - 192s 21ms/step - loss: 0.0191 - accuracy: 0.9939 - val_loss: 0.0455 - val_accuracy: 0.9894\n",
            "Epoch 8/10\n",
            "9312/9312 [==============================] - 192s 21ms/step - loss: 0.0164 - accuracy: 0.9948 - val_loss: 0.0488 - val_accuracy: 0.9886\n",
            "Epoch 9/10\n",
            "9312/9312 [==============================] - 192s 21ms/step - loss: 0.0155 - accuracy: 0.9952 - val_loss: 0.0478 - val_accuracy: 0.9893\n",
            "Epoch 10/10\n",
            "9312/9312 [==============================] - 193s 21ms/step - loss: 0.0141 - accuracy: 0.9956 - val_loss: 0.0454 - val_accuracy: 0.9910\n"
          ],
          "name": "stdout"
        },
        {
          "output_type": "execute_result",
          "data": {
            "text/plain": [
              "<tensorflow.python.keras.callbacks.History at 0x7f43d079fd50>"
            ]
          },
          "metadata": {
            "tags": []
          },
          "execution_count": 15
        }
      ]
    },
    {
      "cell_type": "code",
      "metadata": {
        "colab": {
          "base_uri": "https://localhost:8080/",
          "height": 335
        },
        "id": "4yTk1_APo4a7",
        "outputId": "db86a932-e7c8-46db-dba9-b0048ef06847"
      },
      "source": [
        "import matplotlib.pyplot as plt\n",
        "l = list(string.ascii_uppercase)\n",
        "for image, labels in train_ds.take(1):\n",
        "  i = 5\n",
        "  pred = model.predict_classes(image)\n",
        "  plt.imshow(image[i]/255)\n",
        "  print(l[pred[i]])"
      ],
      "execution_count": null,
      "outputs": [
        {
          "output_type": "stream",
          "text": [
            "/usr/local/lib/python3.7/dist-packages/tensorflow/python/keras/engine/sequential.py:450: UserWarning: `model.predict_classes()` is deprecated and will be removed after 2021-01-01. Please use instead:* `np.argmax(model.predict(x), axis=-1)`,   if your model does multi-class classification   (e.g. if it uses a `softmax` last-layer activation).* `(model.predict(x) > 0.5).astype(\"int32\")`,   if your model does binary classification   (e.g. if it uses a `sigmoid` last-layer activation).\n",
            "  warnings.warn('`model.predict_classes()` is deprecated and '\n"
          ],
          "name": "stderr"
        },
        {
          "output_type": "stream",
          "text": [
            "P\n"
          ],
          "name": "stdout"
        },
        {
          "output_type": "display_data",
          "data": {
            "image/png": "[encoded data removed]",
            "text/plain": [
              "<Figure size 432x288 with 1 Axes>"
            ]
          },
          "metadata": {
            "tags": [],
            "needs_background": "light"
          }
        }
      ]
    }
  ]
}